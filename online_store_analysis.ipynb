{
 "cells": [
  {
   "cell_type": "markdown",
   "metadata": {},
   "source": [
    "# Project description\n",
    "\n",
    "Analyst team of a big online store are testing a list of hypotheses that may help the store to boost its revenue.\n",
    "\n",
    "The goal of this project is to prioritize these hypotheses, launch an A/B test, and analyze the results.\n",
    "\n",
    "Outline of analysis:\n",
    "- prioritize hypotheses using RICE/ICE frameworks.\n",
    "- calculate cumulative revenue by group.\n",
    "- calculate cumulative average order size by group and relative difference in cumulative average order size.\n",
    "- calculate each group's conversion rate.\n",
    "- filter the data from outliers.\n",
    "\n",
    "Data description:\n",
    "- hypotheses  description and evaluation dataframe.\n",
    "- orders with date, order id ,user id, group and amount spent.\n",
    "- visitors with date, group and number of visitors."
   ]
  },
  {
   "cell_type": "code",
   "execution_count": 1,
   "metadata": {},
   "outputs": [],
   "source": [
    "import pandas as pd\n",
    "from matplotlib import pyplot as plt\n",
    "import numpy as np\n",
    "import warnings\n",
    "import scipy.stats as stats\n",
    "\n",
    "pd.set_option(\"display.max_colwidth\", -1)\n",
    "warnings.simplefilter(action='ignore')"
   ]
  },
  {
   "cell_type": "markdown",
   "metadata": {},
   "source": [
    "## Prioritizing Hypotheses\n",
    "* Apply the ICE framework to prioritize hypotheses. Sort them in descending order of priority.\n",
    "* Apply the RICE framework to prioritize hypotheses. Sort them in descending order of priority.\n",
    "* Show how the prioritization of hypotheses changes when you use RICE instead of ICE. Provide an explanation for the changes."
   ]
  },
  {
   "cell_type": "code",
   "execution_count": 2,
   "metadata": {},
   "outputs": [
    {
     "name": "stdout",
     "output_type": "stream",
     "text": [
      "ICE framework to prioritize hypotheses:\n",
      "                                                                                 Hypothesis  \\\n",
      "8  Launch a promotion that gives users discounts on their birthdays                           \n",
      "0  Add two new channels for attracting traffic. This will bring 30% more users                \n",
      "7  Add a subscription form to all the main pages. This will help you compile a mailing list   \n",
      "6  Show banners with current offers and sales on the main page. This will boost conversion    \n",
      "\n",
      "    ICE  \n",
      "8  16.0  \n",
      "0  13.0  \n",
      "7  11.0  \n",
      "6  8.0   \n",
      "\n",
      "RICE framework to prioritize hypotheses:\n",
      "                                                                                                       Hypothesis  \\\n",
      "7  Add a subscription form to all the main pages. This will help you compile a mailing list                         \n",
      "2  Add product recommendation blocks to the store's site. This will increase conversion and average purchase size   \n",
      "0  Add two new channels for attracting traffic. This will bring 30% more users                                      \n",
      "6  Show banners with current offers and sales on the main page. This will boost conversion                          \n",
      "\n",
      "    RICE  \n",
      "7  112.0  \n",
      "2  56.0   \n",
      "0  40.0   \n",
      "6  40.0   \n",
      "\n",
      "Compare frameworks:\n"
     ]
    },
    {
     "data": {
      "text/html": [
       "<div>\n",
       "<style scoped>\n",
       "    .dataframe tbody tr th:only-of-type {\n",
       "        vertical-align: middle;\n",
       "    }\n",
       "\n",
       "    .dataframe tbody tr th {\n",
       "        vertical-align: top;\n",
       "    }\n",
       "\n",
       "    .dataframe thead th {\n",
       "        text-align: right;\n",
       "    }\n",
       "</style>\n",
       "<table border=\"1\" class=\"dataframe\">\n",
       "  <thead>\n",
       "    <tr style=\"text-align: right;\">\n",
       "      <th></th>\n",
       "      <th>Hypothesis</th>\n",
       "      <th>RICE</th>\n",
       "      <th>ICE</th>\n",
       "    </tr>\n",
       "  </thead>\n",
       "  <tbody>\n",
       "    <tr>\n",
       "      <td>7</td>\n",
       "      <td>Add a subscription form to all the main pages. This will help you compile a mailing list</td>\n",
       "      <td>112.0</td>\n",
       "      <td>11.200000</td>\n",
       "    </tr>\n",
       "    <tr>\n",
       "      <td>2</td>\n",
       "      <td>Add product recommendation blocks to the store's site. This will increase conversion and average purchase size</td>\n",
       "      <td>56.0</td>\n",
       "      <td>7.000000</td>\n",
       "    </tr>\n",
       "    <tr>\n",
       "      <td>0</td>\n",
       "      <td>Add two new channels for attracting traffic. This will bring 30% more users</td>\n",
       "      <td>40.0</td>\n",
       "      <td>13.333333</td>\n",
       "    </tr>\n",
       "    <tr>\n",
       "      <td>6</td>\n",
       "      <td>Show banners with current offers and sales on the main page. This will boost conversion</td>\n",
       "      <td>40.0</td>\n",
       "      <td>8.000000</td>\n",
       "    </tr>\n",
       "    <tr>\n",
       "      <td>8</td>\n",
       "      <td>Launch a promotion that gives users discounts on their birthdays</td>\n",
       "      <td>16.2</td>\n",
       "      <td>16.200000</td>\n",
       "    </tr>\n",
       "    <tr>\n",
       "      <td>3</td>\n",
       "      <td>Change the category structure. This will increase conversion since users will find the products they want more quickly</td>\n",
       "      <td>9.0</td>\n",
       "      <td>1.125000</td>\n",
       "    </tr>\n",
       "    <tr>\n",
       "      <td>1</td>\n",
       "      <td>Launch your own delivery service. This will shorten delivery time</td>\n",
       "      <td>4.0</td>\n",
       "      <td>2.000000</td>\n",
       "    </tr>\n",
       "    <tr>\n",
       "      <td>5</td>\n",
       "      <td>Add a customer review page. This will increase the number of orders</td>\n",
       "      <td>4.0</td>\n",
       "      <td>1.333333</td>\n",
       "    </tr>\n",
       "    <tr>\n",
       "      <td>4</td>\n",
       "      <td>Change the background color on the main page. This will increase user engagement</td>\n",
       "      <td>3.0</td>\n",
       "      <td>1.000000</td>\n",
       "    </tr>\n",
       "  </tbody>\n",
       "</table>\n",
       "</div>"
      ],
      "text/plain": [
       "                                                                                                               Hypothesis  \\\n",
       "7  Add a subscription form to all the main pages. This will help you compile a mailing list                                 \n",
       "2  Add product recommendation blocks to the store's site. This will increase conversion and average purchase size           \n",
       "0  Add two new channels for attracting traffic. This will bring 30% more users                                              \n",
       "6  Show banners with current offers and sales on the main page. This will boost conversion                                  \n",
       "8  Launch a promotion that gives users discounts on their birthdays                                                         \n",
       "3  Change the category structure. This will increase conversion since users will find the products they want more quickly   \n",
       "1  Launch your own delivery service. This will shorten delivery time                                                        \n",
       "5  Add a customer review page. This will increase the number of orders                                                      \n",
       "4  Change the background color on the main page. This will increase user engagement                                         \n",
       "\n",
       "    RICE        ICE  \n",
       "7  112.0  11.200000  \n",
       "2  56.0   7.000000   \n",
       "0  40.0   13.333333  \n",
       "6  40.0   8.000000   \n",
       "8  16.2   16.200000  \n",
       "3  9.0    1.125000   \n",
       "1  4.0    2.000000   \n",
       "5  4.0    1.333333   \n",
       "4  3.0    1.000000   "
      ]
     },
     "metadata": {},
     "output_type": "display_data"
    }
   ],
   "source": [
    "hypotheses = pd.read_csv(\"/datasets/hypotheses_us.csv\", sep=';')\n",
    "\n",
    "hypotheses['ICE'] = (hypotheses.Impact*hypotheses.Confidence)/hypotheses.Effort\n",
    "hypotheses['RICE'] = (hypotheses.Impact*hypotheses.Confidence*hypotheses.Reach)/hypotheses.Effort\n",
    "\n",
    "print(\"ICE framework to prioritize hypotheses:\")\n",
    "print(hypotheses[['Hypothesis','ICE']].sort_values('ICE',ascending=False).head(4).round())\n",
    "print(\"\\nRICE framework to prioritize hypotheses:\")\n",
    "print(hypotheses[['Hypothesis','RICE']].sort_values('RICE',ascending=False).head(4))\n",
    "print(\"\\nCompare frameworks:\")\n",
    "display(hypotheses[['Hypothesis','RICE','ICE']].sort_values('RICE',ascending=False))"
   ]
  },
  {
   "cell_type": "markdown",
   "metadata": {},
   "source": [
    "* The reason for the change between the frameworks is the additional reach parameter that exist in the RICE framework."
   ]
  },
  {
   "cell_type": "markdown",
   "metadata": {},
   "source": [
    "## Part 2. A/B Test Analysis"
   ]
  },
  {
   "cell_type": "code",
   "execution_count": 3,
   "metadata": {},
   "outputs": [
    {
     "name": "stdout",
     "output_type": "stream",
     "text": [
      "<class 'pandas.core.frame.DataFrame'>\n",
      "RangeIndex: 1197 entries, 0 to 1196\n",
      "Data columns (total 5 columns):\n",
      "transactionId    1197 non-null int64\n",
      "visitorId        1197 non-null int64\n",
      "date             1197 non-null datetime64[ns]\n",
      "revenue          1197 non-null float64\n",
      "group            1197 non-null object\n",
      "dtypes: datetime64[ns](1), float64(1), int64(2), object(1)\n",
      "memory usage: 46.9+ KB\n",
      "None\n",
      "   transactionId   visitorId       date  revenue group\n",
      "0  3667963787     3312258926 2019-08-15  30.4     B   \n",
      "1  2804400009     3642806036 2019-08-15  15.2     B   \n",
      "2  2961555356     4069496402 2019-08-15  10.2     A   \n",
      "3  3797467345     1196621759 2019-08-15  155.1    B   \n",
      "4  2282983706     2322279887 2019-08-15  40.5     B   \n",
      "\n",
      "<class 'pandas.core.frame.DataFrame'>\n",
      "RangeIndex: 62 entries, 0 to 61\n",
      "Data columns (total 3 columns):\n",
      "date      62 non-null datetime64[ns]\n",
      "group     62 non-null object\n",
      "visits    62 non-null int64\n",
      "dtypes: datetime64[ns](1), int64(1), object(1)\n",
      "memory usage: 1.6+ KB\n",
      "None\n",
      "        date group  visits\n",
      "0 2019-08-01  A     719   \n",
      "1 2019-08-02  A     619   \n",
      "2 2019-08-03  A     507   \n",
      "3 2019-08-04  A     717   \n",
      "4 2019-08-05  A     756   \n"
     ]
    }
   ],
   "source": [
    "orders = pd.read_csv(\"/datasets/orders_us.csv\",parse_dates=['date'])\n",
    "visits = pd.read_csv(\"/datasets/visits_us.csv\",parse_dates=['date'])\n",
    "\n",
    "print(orders.info())\n",
    "print(orders.head())\n",
    "print(\"\")\n",
    "print(visits.info())\n",
    "print(visits.head())"
   ]
  },
  {
   "cell_type": "code",
   "execution_count": 4,
   "metadata": {},
   "outputs": [
    {
     "name": "stdout",
     "output_type": "stream",
     "text": [
      "We have 58 users that are both in group A and B.\n"
     ]
    }
   ],
   "source": [
    "visitorIdA = orders[orders.group == 'A'].groupby('visitorId').group.max().reset_index()\n",
    "visitorIdB = orders[orders.group == 'B' ].groupby('visitorId').group.max().reset_index()\n",
    "\n",
    "dupliuser = visitorIdA.merge(visitorIdB, left_on='visitorId', right_on='visitorId', how='inner')\n",
    "orders = orders.query('visitorId not in @dupliuser.visitorId')\n",
    "print(\"We have {:} users that are both in group A and B.\".format(len(dupliuser.visitorId)))"
   ]
  },
  {
   "cell_type": "markdown",
   "metadata": {},
   "source": [
    "* To increase the test accuracy I will drop the duplicate users."
   ]
  },
  {
   "cell_type": "code",
   "execution_count": 5,
   "metadata": {
    "scrolled": true
   },
   "outputs": [
    {
     "data": {
      "text/html": [
       "<div>\n",
       "<style scoped>\n",
       "    .dataframe tbody tr th:only-of-type {\n",
       "        vertical-align: middle;\n",
       "    }\n",
       "\n",
       "    .dataframe tbody tr th {\n",
       "        vertical-align: top;\n",
       "    }\n",
       "\n",
       "    .dataframe thead th {\n",
       "        text-align: right;\n",
       "    }\n",
       "</style>\n",
       "<table border=\"1\" class=\"dataframe\">\n",
       "  <thead>\n",
       "    <tr style=\"text-align: right;\">\n",
       "      <th></th>\n",
       "      <th>date</th>\n",
       "      <th>group</th>\n",
       "      <th>orders</th>\n",
       "      <th>buyers</th>\n",
       "      <th>revenue</th>\n",
       "      <th>visitors</th>\n",
       "    </tr>\n",
       "  </thead>\n",
       "  <tbody>\n",
       "    <tr>\n",
       "      <td>0</td>\n",
       "      <td>2019-08-01</td>\n",
       "      <td>A</td>\n",
       "      <td>23</td>\n",
       "      <td>19</td>\n",
       "      <td>2266.6</td>\n",
       "      <td>719</td>\n",
       "    </tr>\n",
       "    <tr>\n",
       "      <td>1</td>\n",
       "      <td>2019-08-01</td>\n",
       "      <td>B</td>\n",
       "      <td>17</td>\n",
       "      <td>17</td>\n",
       "      <td>967.2</td>\n",
       "      <td>713</td>\n",
       "    </tr>\n",
       "    <tr>\n",
       "      <td>2</td>\n",
       "      <td>2019-08-02</td>\n",
       "      <td>A</td>\n",
       "      <td>42</td>\n",
       "      <td>36</td>\n",
       "      <td>3734.9</td>\n",
       "      <td>1338</td>\n",
       "    </tr>\n",
       "    <tr>\n",
       "      <td>3</td>\n",
       "      <td>2019-08-02</td>\n",
       "      <td>B</td>\n",
       "      <td>40</td>\n",
       "      <td>39</td>\n",
       "      <td>3535.3</td>\n",
       "      <td>1294</td>\n",
       "    </tr>\n",
       "    <tr>\n",
       "      <td>4</td>\n",
       "      <td>2019-08-03</td>\n",
       "      <td>A</td>\n",
       "      <td>66</td>\n",
       "      <td>60</td>\n",
       "      <td>5550.1</td>\n",
       "      <td>1845</td>\n",
       "    </tr>\n",
       "  </tbody>\n",
       "</table>\n",
       "</div>"
      ],
      "text/plain": [
       "        date group  orders  buyers  revenue  visitors\n",
       "0 2019-08-01  A     23      19      2266.6   719     \n",
       "1 2019-08-01  B     17      17      967.2    713     \n",
       "2 2019-08-02  A     42      36      3734.9   1338    \n",
       "3 2019-08-02  B     40      39      3535.3   1294    \n",
       "4 2019-08-03  A     66      60      5550.1   1845    "
      ]
     },
     "execution_count": 5,
     "metadata": {},
     "output_type": "execute_result"
    }
   ],
   "source": [
    "datesGroups = orders[['date','group']].drop_duplicates() \n",
    "\n",
    "ordersAggregated = datesGroups.apply(lambda x: orders[np.logical_and(\n",
    "    orders['date'] <= x['date'], orders['group'] == x['group']\n",
    "    )].agg({'date':'max','group':'max','transactionId':pd.Series.nunique,\n",
    "            'visitorId':pd.Series.nunique,'revenue':'sum'}), axis=1).sort_values(by=['date','group'])\n",
    "\n",
    "visitorsAggregated = datesGroups.apply(lambda x: visits[np.logical_and(\n",
    "    visits['date'] <= x['date'], visits['group'] == x['group'])\n",
    "    ].agg({'date' : 'max', 'group' : 'max', 'visits' : 'sum'}), axis=1).sort_values(by=['date','group'])\n",
    "\n",
    "cumulativeData = ordersAggregated.merge(visitorsAggregated, left_on=['date', 'group'], right_on=['date', 'group'])\n",
    "cumulativeData.columns = ['date', 'group', 'orders', 'buyers', 'revenue', 'visitors']\n",
    "cumulativeData.head()"
   ]
  },
  {
   "cell_type": "markdown",
   "metadata": {},
   "source": [
    "#### Graph cumulative revenue by group. Make conclusions and conjectures."
   ]
  },
  {
   "cell_type": "code",
   "execution_count": 6,
   "metadata": {},
   "outputs": [
    {
     "data": {
      "image/png": "[encoded data removed]",
      "text/plain": [
       "<Figure size 936x360 with 1 Axes>"
      ]
     },
     "metadata": {
      "needs_background": "light"
     },
     "output_type": "display_data"
    }
   ],
   "source": [
    "cumulativeRevenueA = cumulativeData[cumulativeData['group']=='A'][['date','revenue', 'orders']]\n",
    "cumulativeRevenueB = cumulativeData[cumulativeData['group']=='B'][['date','revenue', 'orders']]\n",
    "\n",
    "plt.figure(figsize=(13, 5))\n",
    "plt.plot(cumulativeRevenueA['date'], cumulativeRevenueA['revenue'], label='A')\n",
    "plt.plot(cumulativeRevenueB['date'], cumulativeRevenueB['revenue'], label='B')\n",
    "plt.title('Cumulative revenue by group:', size=14)\n",
    "plt.xlabel(\"Date\", size=10)\n",
    "plt.ylabel('Revenue', size=10)\n",
    "plt.legend();"
   ]
  },
  {
   "cell_type": "markdown",
   "metadata": {},
   "source": [
    "* Cumulative revenue trend is simular in groups A and B. In 19-08-2019 there is big purchase in group B."
   ]
  },
  {
   "cell_type": "markdown",
   "metadata": {},
   "source": [
    "#### Graph cumulative average order size by group. Make conclusions and conjectures."
   ]
  },
  {
   "cell_type": "code",
   "execution_count": 7,
   "metadata": {},
   "outputs": [
    {
     "data": {
      "image/png": "[encoded data removed]",
      "text/plain": [
       "<Figure size 936x360 with 1 Axes>"
      ]
     },
     "metadata": {
      "needs_background": "light"
     },
     "output_type": "display_data"
    }
   ],
   "source": [
    "plt.figure(figsize=(13, 5))\n",
    "plt.plot(cumulativeRevenueA['date'], cumulativeRevenueA['revenue']/cumulativeRevenueA['orders'], label='A')\n",
    "plt.plot(cumulativeRevenueB['date'], cumulativeRevenueB['revenue']/cumulativeRevenueB['orders'], label='B')\n",
    "plt.title('Cumulative average order size by group:', size=14)\n",
    "plt.xlabel(\"Date\", size=10)\n",
    "plt.ylabel('Average order size', size=10)\n",
    "plt.legend();"
   ]
  },
  {
   "cell_type": "markdown",
   "metadata": {},
   "source": [
    "* Cumulative average order size trend is simular in groups A and B. In 19-08-2019 there is big purchase in group B."
   ]
  },
  {
   "cell_type": "markdown",
   "metadata": {},
   "source": [
    "#### Graph the relative difference in cumulative average order size for group B compared with group A. Make conclusions and conjectures."
   ]
  },
  {
   "cell_type": "code",
   "execution_count": 8,
   "metadata": {},
   "outputs": [
    {
     "data": {
      "image/png": "[encoded data removed]",
      "text/plain": [
       "<Figure size 936x360 with 1 Axes>"
      ]
     },
     "metadata": {
      "needs_background": "light"
     },
     "output_type": "display_data"
    }
   ],
   "source": [
    "plt.figure(figsize=(13, 5))\n",
    "mergedCumulativeRevenue = cumulativeRevenueA.merge(cumulativeRevenueB, left_on='date', right_on='date', how='left', suffixes=['A', 'B'])\n",
    "plt.plot(mergedCumulativeRevenue['date'], (mergedCumulativeRevenue['revenueB']/mergedCumulativeRevenue['ordersB'])/(mergedCumulativeRevenue['revenueA']/mergedCumulativeRevenue['ordersA'])-1)\n",
    "plt.axhline(y=0, color='black', linestyle='--')\n",
    "plt.title('Relative difference in cumulative average order (groups B/A):', size=14)\n",
    "plt.xlabel(\"Date\", size=10)\n",
    "plt.ylabel('Relative difference', size=10);"
   ]
  },
  {
   "cell_type": "markdown",
   "metadata": {},
   "source": [
    "* The relative difference in cumulative average order is still noisy,probably due to large purchases outliers."
   ]
  },
  {
   "cell_type": "markdown",
   "metadata": {},
   "source": [
    "#### Calculate each group's conversion rate as the ratio of orders to the number of visits for each day. Plot the daily conversion rates of the two groups and describe the difference. Draw conclusions and make conjectures."
   ]
  },
  {
   "cell_type": "code",
   "execution_count": 9,
   "metadata": {},
   "outputs": [
    {
     "data": {
      "image/png": "[encoded data removed]",
      "text/plain": [
       "<Figure size 936x360 with 1 Axes>"
      ]
     },
     "metadata": {
      "needs_background": "light"
     },
     "output_type": "display_data"
    }
   ],
   "source": [
    "cumulativeData['conversion'] = cumulativeData['orders']/cumulativeData['visitors']\n",
    "cumulativeDataA = cumulativeData[cumulativeData['group']=='A']\n",
    "cumulativeDataB = cumulativeData[cumulativeData['group']=='B']\n",
    "\n",
    "plt.figure(figsize=(13, 5))\n",
    "plt.plot(cumulativeDataA['date'], cumulativeDataA['conversion'], label='A')\n",
    "plt.plot(cumulativeDataB['date'], cumulativeDataB['conversion'], label='B')\n",
    "plt.title('Conversion rate by group:', size=14)\n",
    "plt.xlabel(\"Date\", size=10)\n",
    "plt.ylabel('Conversion rate', size=10)\n",
    "plt.legend();"
   ]
  },
  {
   "cell_type": "markdown",
   "metadata": {},
   "source": [
    "* conversion rates are steady for groups A and B, and are higher on average in group B."
   ]
  },
  {
   "cell_type": "markdown",
   "metadata": {},
   "source": [
    "#### Plot a scatter chart of the number of orders per user. Make conclusions and conjectures."
   ]
  },
  {
   "cell_type": "code",
   "execution_count": 10,
   "metadata": {},
   "outputs": [
    {
     "name": "stdout",
     "output_type": "stream",
     "text": [
      "Number of orders per user:\n",
      "   ordersPerUser  users\n",
      "0  1              937  \n",
      "1  2              29   \n",
      "2  3              7    \n"
     ]
    },
    {
     "data": {
      "image/png": "[encoded data removed]",
      "text/plain": [
       "<Figure size 648x360 with 1 Axes>"
      ]
     },
     "metadata": {
      "needs_background": "light"
     },
     "output_type": "display_data"
    }
   ],
   "source": [
    "ordersByUsers = (\n",
    "    orders.drop(['group', 'revenue', 'date'], axis=1)\n",
    "    .groupby('visitorId', as_index=False)\n",
    "    .agg({'transactionId': pd.Series.nunique}))\n",
    "\n",
    "ordersByUsers.columns = ['userId', 'orders']\n",
    "\n",
    "numberOrdersByUsers = ordersByUsers.orders.value_counts().reset_index()\n",
    "numberOrdersByUsers.columns = ['ordersPerUser', 'users']\n",
    "print(\"Number of orders per user:\")\n",
    "print(numberOrdersByUsers)\n",
    "\n",
    "plt.figure(figsize=(9, 5))\n",
    "x_values = pd.Series(range(0,len(ordersByUsers)))\n",
    "plt.scatter(x_values, ordersByUsers['orders'])\n",
    "plt.title('Number of orders per user:', size=14)\n",
    "plt.xlabel(\"Index\", size=10)\n",
    "plt.ylabel('Orders per user', size=10);"
   ]
  },
  {
   "cell_type": "markdown",
   "metadata": {},
   "source": [
    "* We can see that most of our users making 1 order."
   ]
  },
  {
   "cell_type": "markdown",
   "metadata": {},
   "source": [
    "##### Calculate the 95th and 99th percentiles for the number of orders per user. Define the point at which a data point becomes an anomaly."
   ]
  },
  {
   "cell_type": "code",
   "execution_count": 11,
   "metadata": {},
   "outputs": [
    {
     "name": "stdout",
     "output_type": "stream",
     "text": [
      "The 95th percentiles for the number of orders per user is: 1.0\n",
      "The 99th percentiles for the number of orders per user is: 2.0\n"
     ]
    }
   ],
   "source": [
    "print(\"The 95th percentiles for the number of orders per user is:\",(np.percentile(ordersByUsers['orders'], 95)))\n",
    "print(\"The 99th percentiles for the number of orders per user is:\",(np.percentile(ordersByUsers['orders'], 99)))"
   ]
  },
  {
   "cell_type": "markdown",
   "metadata": {},
   "source": [
    "Only 5% of users placed more than 1 orders, more than 1 orders per user is an anomaly."
   ]
  },
  {
   "cell_type": "markdown",
   "metadata": {},
   "source": [
    "#### Plot a scatter chart of order prices. Make conclusions and conjectures."
   ]
  },
  {
   "cell_type": "code",
   "execution_count": 12,
   "metadata": {},
   "outputs": [
    {
     "data": {
      "image/png": "[encoded data removed]",
      "text/plain": [
       "<Figure size 648x360 with 1 Axes>"
      ]
     },
     "metadata": {
      "needs_background": "light"
     },
     "output_type": "display_data"
    }
   ],
   "source": [
    "plt.figure(figsize=(9, 5))\n",
    "x_values = pd.Series(range(0,len(orders['revenue'])))\n",
    "plt.scatter(x_values, orders['revenue']) \n",
    "plt.title('Order prices:', size=14)\n",
    "plt.xlabel(\"Index\", size=10)\n",
    "plt.ylabel('Prices', size=10);"
   ]
  },
  {
   "cell_type": "markdown",
   "metadata": {},
   "source": [
    "* Only 2 orders cost more than 2500."
   ]
  },
  {
   "cell_type": "markdown",
   "metadata": {},
   "source": [
    "#### Calculate the 95th and 99th percentiles of order prices. Define the point at which a data point becomes an anomaly."
   ]
  },
  {
   "cell_type": "code",
   "execution_count": 13,
   "metadata": {},
   "outputs": [
    {
     "name": "stdout",
     "output_type": "stream",
     "text": [
      "The 95th percentiles for the number of orders per user is: 414\n",
      "The 99th percentiles for the number of orders per user is: 830\n"
     ]
    }
   ],
   "source": [
    "print(\"The 95th percentiles for the number of orders per user is:\",round(np.percentile(orders['revenue'], 95)))\n",
    "print(\"The 99th percentiles for the number of orders per user is:\",round(np.percentile(orders['revenue'], 99)))"
   ]
  },
  {
   "cell_type": "markdown",
   "metadata": {},
   "source": [
    "Only 5% of orders cost more than 414, spending more than 414 on a single order is an anomaly. "
   ]
  },
  {
   "cell_type": "markdown",
   "metadata": {},
   "source": [
    "#### Find the statistical significance of the difference in conversion between the groups using the raw data. Make conclusions and conjectures."
   ]
  },
  {
   "cell_type": "code",
   "execution_count": 14,
   "metadata": {},
   "outputs": [
    {
     "name": "stdout",
     "output_type": "stream",
     "text": [
      "Conversion comparison between groups A and B:\n",
      "p-value:              0.006\n",
      "B average /A average: 0.160\n"
     ]
    }
   ],
   "source": [
    "ordersByUsersA = orders[orders['group']=='A'].groupby('visitorId', as_index=False).agg({'transactionId' : pd.Series.nunique})\n",
    "ordersByUsersA.columns = ['userId', 'orders']\n",
    "\n",
    "ordersByUsersB = orders[orders['group']=='B'].groupby('visitorId', as_index=False).agg({'transactionId' : pd.Series.nunique})\n",
    "ordersByUsersB.columns = ['userId', 'orders']\n",
    "\n",
    "sampleA = pd.concat([ordersByUsersA['orders'],pd.Series(0, index=np.arange(visits[visits['group']=='A']['visits'].sum() - len(ordersByUsersA['orders'])), name='orders')],axis=0)\n",
    "sampleB = pd.concat([ordersByUsersB['orders'],pd.Series(0, index=np.arange(visits[visits['group']=='B']['visits'].sum() - len(ordersByUsersB['orders'])), name='orders')],axis=0)\n",
    "\n",
    "print(\"Conversion comparison between groups A and B:\")\n",
    "print(\"p-value:              {0:.3f}\".format(stats.mannwhitneyu(sampleA, sampleB)[1]))\n",
    "print(\"B average /A average: {0:.3f}\".format(sampleB.mean()/sampleA.mean()-1))"
   ]
  },
  {
   "cell_type": "markdown",
   "metadata": {},
   "source": [
    "* The p-value is smaller than alpha=0.05 so there is a significant difference in conversion between the groups. Group B have on average higher conversion rates."
   ]
  },
  {
   "cell_type": "markdown",
   "metadata": {},
   "source": [
    "#### Find the statistical significance of the difference in average order size between the groups using the raw data. Make conclusions and conjectures."
   ]
  },
  {
   "cell_type": "code",
   "execution_count": 15,
   "metadata": {},
   "outputs": [
    {
     "name": "stdout",
     "output_type": "stream",
     "text": [
      "Average order size comparison between groups A and B:\n",
      "p-value:              0.431\n",
      "B average /A average: 0.278\n"
     ]
    }
   ],
   "source": [
    "print(\"Average order size comparison between groups A and B:\")\n",
    "print('p-value:              {0:.3f}'.format(stats.mannwhitneyu(orders[orders['group']=='A']['revenue'], orders[orders['group']=='B']['revenue'])[1]))\n",
    "print('B average /A average: {0:.3f}'.format(orders[orders['group']=='B']['revenue'].mean()/orders[orders['group']=='A']['revenue'].mean()-1))"
   ]
  },
  {
   "cell_type": "markdown",
   "metadata": {},
   "source": [
    "* The p-value is greater than alpha=0.05 so there is no significant difference in order size between the groups. \n",
    "* Group B have on average larger order sizes."
   ]
  },
  {
   "cell_type": "markdown",
   "metadata": {},
   "source": [
    "#### Find the statistical significance of the difference in conversion between the groups using the filtered data. Make conclusions and conjectures."
   ]
  },
  {
   "cell_type": "code",
   "execution_count": 16,
   "metadata": {},
   "outputs": [
    {
     "name": "stdout",
     "output_type": "stream",
     "text": [
      "Conversion comparison between groups A and B:\n",
      "p-value:              0.008\n",
      "B average /A average: 0.174\n"
     ]
    }
   ],
   "source": [
    "usersWithManyOrders = pd.concat([ordersByUsersA[ordersByUsersA['orders'] > 1]['userId'], \n",
    "                                 ordersByUsersB[ordersByUsersB['orders'] > 1]['userId']], axis = 0)\n",
    "usersWithExpensiveOrders = orders[orders['revenue'] > 414]['visitorId']\n",
    "abnormalUsers = pd.concat([usersWithManyOrders, usersWithExpensiveOrders], axis = 0\n",
    "                         ).drop_duplicates().sort_values()\n",
    "\n",
    "sampleAFiltered = pd.concat([ordersByUsersA[np.logical_not(ordersByUsersA['userId'].isin(\n",
    "    abnormalUsers))]['orders'],pd.Series(0, index=np.arange(visits[\n",
    "    visits['group']=='A']['visits'].sum() - len(ordersByUsersA['orders'])),name='orders')],axis=0)\n",
    "\n",
    "sampleBFiltered = pd.concat([ordersByUsersB[np.logical_not(ordersByUsersB['userId'].isin(\n",
    "    abnormalUsers))]['orders'],pd.Series(0, index=np.arange(visits[\n",
    "    visits['group']=='B']['visits'].sum() - len(ordersByUsersB['orders'])),name='orders')],axis=0)\n",
    "\n",
    "print(\"Conversion comparison between groups A and B:\")\n",
    "print(\"p-value:              {0:.3f}\".format(stats.mannwhitneyu(sampleAFiltered, sampleBFiltered)[1]))\n",
    "print(\"B average /A average: {0:.3f}\".format(sampleBFiltered.mean()/sampleAFiltered.mean()-1)) "
   ]
  },
  {
   "cell_type": "markdown",
   "metadata": {},
   "source": [
    "* As before  p-value is smaller than alpha=0.05 and didnt change much. \n",
    "* The average conversion rates of group B increased by a small margin from 16% to 17% in relation to group A."
   ]
  },
  {
   "cell_type": "markdown",
   "metadata": {},
   "source": [
    "#### Find the statistical significance of the difference in average order size between the groups using the filtered data. Make conclusions and conjectures."
   ]
  },
  {
   "cell_type": "code",
   "execution_count": 17,
   "metadata": {},
   "outputs": [
    {
     "name": "stdout",
     "output_type": "stream",
     "text": [
      "Average order size comparison between filtered A and B:\n",
      "p-value:              0.386\n",
      "B average /A average: -0.033\n"
     ]
    }
   ],
   "source": [
    "print(\"Average order size comparison between filtered A and B:\")\n",
    "print('p-value:              {0:.3f}'.format(stats.mannwhitneyu(\n",
    "    orders[np.logical_and(orders['group']=='A',\n",
    "        np.logical_not(orders['visitorId'].isin(abnormalUsers)))]['revenue'],\n",
    "    orders[np.logical_and(orders['group']=='B',\n",
    "        np.logical_not(orders['visitorId'].isin(abnormalUsers)))]['revenue'])[1]))\n",
    "\n",
    "print('B average /A average: {0:.3f}'.format(\n",
    "    orders[np.logical_and(orders['group']=='B',np.logical_not(orders['visitorId'].isin(abnormalUsers)))]['revenue'].mean()/\n",
    "    orders[np.logical_and(orders['group']=='A',\n",
    "        np.logical_not(orders['visitorId'].isin(abnormalUsers)))]['revenue'].mean() - 1))"
   ]
  },
  {
   "cell_type": "markdown",
   "metadata": {},
   "source": [
    "* The p-value is greater than alpha=0.05 so there is no significant difference in order size between the groups. \n",
    "* The average order size of filtered group A similar to that of filtered group B."
   ]
  },
  {
   "cell_type": "markdown",
   "metadata": {},
   "source": [
    "## Conclusions:\n",
    "\n",
    "* Using ICE we should start with hypotheses no.8: \"Launch a promotion that gives users discounts on their birthdays\".\n",
    "* Using RICE we should start with hypotheses no.7: \"Add a subscription form to all the main pages. This will help you compile a mailing list\".\n",
    "* We had 58 users that were both in group A and B, we should improve the selection process.\n",
    "* Both raw and filtered data revealed statistically significance difference in conversion between the groups.\n",
    "* Neither raw nor filtered data revealed any statistically significant differences in average order size between the groups.\n",
    "* Raw group B conversion rates are ~16% better than group B conversion rates, and it rises to ~17% in the filtered data.\n",
    "* There is big spike in the raw group B average order size graph and it seems like they are larger than group A, but after the data is filtered the difference is close to zero.\n",
    "\n",
    "## Recommendation:\n",
    "* I will recomend to: (1) Stop the test, consider group B the leader due to better conversion rates."
   ]
  }
 ],
 "metadata": {
  "ExecuteTimeLog": [
   {
    "duration": 358,
    "start_time": "2022-01-16T07:25:21.732Z"
   },
   {
    "duration": 1958,
    "start_time": "2022-01-16T07:25:23.536Z"
   },
   {
    "duration": 59,
    "start_time": "2022-01-16T07:25:25.497Z"
   },
   {
    "duration": 23,
    "start_time": "2022-01-16T07:26:11.185Z"
   },
   {
    "duration": 24,
    "start_time": "2022-01-16T07:27:21.225Z"
   },
   {
    "duration": 32,
    "start_time": "2022-01-16T07:27:34.057Z"
   },
   {
    "duration": 514,
    "start_time": "2022-01-16T07:27:50.679Z"
   },
   {
    "duration": 29,
    "start_time": "2022-01-16T07:27:57.248Z"
   },
   {
    "duration": 40,
    "start_time": "2022-01-16T07:30:09.378Z"
   },
   {
    "duration": 21,
    "start_time": "2022-01-16T07:33:53.141Z"
   },
   {
    "duration": 17,
    "start_time": "2022-01-16T07:34:59.770Z"
   },
   {
    "duration": 165,
    "start_time": "2022-01-16T07:37:08.780Z"
   },
   {
    "duration": 327,
    "start_time": "2022-01-16T07:37:13.422Z"
   },
   {
    "duration": 10,
    "start_time": "2022-01-16T07:37:21.547Z"
   },
   {
    "duration": 9,
    "start_time": "2022-01-16T07:37:45.522Z"
   },
   {
    "duration": 36,
    "start_time": "2022-01-16T07:41:00.578Z"
   },
   {
    "duration": 38,
    "start_time": "2022-01-16T07:41:07.918Z"
   },
   {
    "duration": 41,
    "start_time": "2022-01-16T07:41:47.494Z"
   },
   {
    "duration": 37,
    "start_time": "2022-01-16T07:42:38.643Z"
   },
   {
    "duration": 37,
    "start_time": "2022-01-16T07:42:44.669Z"
   },
   {
    "duration": 38,
    "start_time": "2022-01-16T07:43:11.892Z"
   },
   {
    "duration": 102,
    "start_time": "2022-01-16T07:47:26.824Z"
   },
   {
    "duration": 11,
    "start_time": "2022-01-16T07:47:27.045Z"
   },
   {
    "duration": 9,
    "start_time": "2022-01-16T07:47:27.261Z"
   },
   {
    "duration": 17,
    "start_time": "2022-01-16T07:47:47.384Z"
   },
   {
    "duration": 72,
    "start_time": "2022-01-16T07:48:04.629Z"
   },
   {
    "duration": 65,
    "start_time": "2022-01-16T07:48:12.849Z"
   },
   {
    "duration": 12,
    "start_time": "2022-01-16T07:48:16.007Z"
   },
   {
    "duration": 73,
    "start_time": "2022-01-16T07:53:37.072Z"
   },
   {
    "duration": 12,
    "start_time": "2022-01-16T07:53:38.113Z"
   },
   {
    "duration": 21,
    "start_time": "2022-01-16T07:58:32.252Z"
   },
   {
    "duration": 1101,
    "start_time": "2022-01-16T08:01:22.024Z"
   },
   {
    "duration": 70,
    "start_time": "2022-01-16T08:02:09.201Z"
   },
   {
    "duration": 20,
    "start_time": "2022-01-16T08:02:10.170Z"
   },
   {
    "duration": 398,
    "start_time": "2022-01-16T08:02:12.289Z"
   },
   {
    "duration": 106,
    "start_time": "2022-01-16T08:03:24.523Z"
   },
   {
    "duration": 81,
    "start_time": "2022-01-16T08:03:29.610Z"
   },
   {
    "duration": 79,
    "start_time": "2022-01-16T08:03:46.809Z"
   },
   {
    "duration": 78,
    "start_time": "2022-01-16T08:03:56.344Z"
   },
   {
    "duration": 107,
    "start_time": "2022-01-16T08:04:18.857Z"
   },
   {
    "duration": 74,
    "start_time": "2022-01-16T08:04:24.784Z"
   },
   {
    "duration": 108,
    "start_time": "2022-01-16T08:04:35.279Z"
   },
   {
    "duration": 77,
    "start_time": "2022-01-16T08:04:38.538Z"
   },
   {
    "duration": 494,
    "start_time": "2022-01-16T08:06:03.337Z"
   },
   {
    "duration": 318,
    "start_time": "2022-01-16T08:06:30.682Z"
   },
   {
    "duration": 105,
    "start_time": "2022-01-16T08:07:17.491Z"
   },
   {
    "duration": 123,
    "start_time": "2022-01-16T08:07:30.587Z"
   },
   {
    "duration": 97,
    "start_time": "2022-01-16T08:07:37.552Z"
   },
   {
    "duration": 286,
    "start_time": "2022-01-16T08:07:58.570Z"
   },
   {
    "duration": 286,
    "start_time": "2022-01-16T08:08:25.433Z"
   },
   {
    "duration": 301,
    "start_time": "2022-01-16T08:08:37.123Z"
   },
   {
    "duration": 646,
    "start_time": "2022-01-16T08:10:11.700Z"
   },
   {
    "duration": 30,
    "start_time": "2022-01-16T08:10:41.163Z"
   },
   {
    "duration": 31,
    "start_time": "2022-01-16T08:11:53.634Z"
   },
   {
    "duration": 653,
    "start_time": "2022-01-16T08:13:56.212Z"
   },
   {
    "duration": 306,
    "start_time": "2022-01-16T08:14:28.037Z"
   },
   {
    "duration": 349,
    "start_time": "2022-01-16T08:14:49.374Z"
   },
   {
    "duration": 374,
    "start_time": "2022-01-16T08:15:01.350Z"
   },
   {
    "duration": 843,
    "start_time": "2022-01-16T08:15:37.514Z"
   },
   {
    "duration": 725,
    "start_time": "2022-01-16T08:15:56.523Z"
   },
   {
    "duration": 577,
    "start_time": "2022-01-16T08:16:03.332Z"
   },
   {
    "duration": 390,
    "start_time": "2022-01-16T08:16:15.377Z"
   },
   {
    "duration": 367,
    "start_time": "2022-01-16T08:16:22.237Z"
   },
   {
    "duration": 419,
    "start_time": "2022-01-16T08:17:46.304Z"
   },
   {
    "duration": 366,
    "start_time": "2022-01-16T08:18:13.702Z"
   },
   {
    "duration": 433,
    "start_time": "2022-01-16T08:59:51.950Z"
   },
   {
    "duration": 366,
    "start_time": "2022-01-16T08:59:55.789Z"
   },
   {
    "duration": 391,
    "start_time": "2022-01-16T09:00:07.930Z"
   },
   {
    "duration": 449,
    "start_time": "2022-01-16T09:00:49.210Z"
   },
   {
    "duration": 532,
    "start_time": "2022-01-16T09:00:59.509Z"
   },
   {
    "duration": 609,
    "start_time": "2022-01-16T09:03:31.190Z"
   },
   {
    "duration": 534,
    "start_time": "2022-01-16T09:04:06.058Z"
   },
   {
    "duration": 657,
    "start_time": "2022-01-16T09:04:45.510Z"
   },
   {
    "duration": 512,
    "start_time": "2022-01-16T09:04:51.110Z"
   },
   {
    "duration": 678,
    "start_time": "2022-01-16T09:05:07.449Z"
   },
   {
    "duration": 349,
    "start_time": "2022-01-16T09:29:13.838Z"
   },
   {
    "duration": 472,
    "start_time": "2022-01-16T09:30:11.109Z"
   },
   {
    "duration": 473,
    "start_time": "2022-01-16T10:31:25.547Z"
   },
   {
    "duration": 404,
    "start_time": "2022-01-16T10:32:12.989Z"
   },
   {
    "duration": 385,
    "start_time": "2022-01-16T10:37:04.191Z"
   },
   {
    "duration": 450,
    "start_time": "2022-01-16T10:37:10.838Z"
   },
   {
    "duration": 16,
    "start_time": "2022-01-16T10:41:38.558Z"
   },
   {
    "duration": 9,
    "start_time": "2022-01-16T10:43:16.510Z"
   },
   {
    "duration": 585,
    "start_time": "2022-01-16T10:44:53.272Z"
   },
   {
    "duration": 512,
    "start_time": "2022-01-16T10:46:03.390Z"
   },
   {
    "duration": 557,
    "start_time": "2022-01-16T10:46:14.266Z"
   },
   {
    "duration": 487,
    "start_time": "2022-01-16T10:46:56.545Z"
   },
   {
    "duration": 619,
    "start_time": "2022-01-16T10:47:14.040Z"
   },
   {
    "duration": 673,
    "start_time": "2022-01-16T10:49:12.011Z"
   },
   {
    "duration": 583,
    "start_time": "2022-01-16T10:49:42.690Z"
   },
   {
    "duration": 544,
    "start_time": "2022-01-16T10:51:50.220Z"
   },
   {
    "duration": 639,
    "start_time": "2022-01-16T10:52:23.365Z"
   },
   {
    "duration": 605,
    "start_time": "2022-01-16T10:52:39.273Z"
   },
   {
    "duration": 594,
    "start_time": "2022-01-16T10:53:04.530Z"
   },
   {
    "duration": 780,
    "start_time": "2022-01-16T10:53:52.113Z"
   },
   {
    "duration": 616,
    "start_time": "2022-01-16T10:54:03.039Z"
   },
   {
    "duration": 581,
    "start_time": "2022-01-16T10:55:31.230Z"
   },
   {
    "duration": 643,
    "start_time": "2022-01-16T10:55:37.630Z"
   },
   {
    "duration": 5,
    "start_time": "2022-01-16T10:58:02.290Z"
   },
   {
    "duration": 12,
    "start_time": "2022-01-16T10:59:38.690Z"
   },
   {
    "duration": 641,
    "start_time": "2022-01-16T11:00:10.499Z"
   },
   {
    "duration": 10,
    "start_time": "2022-01-16T11:10:02.041Z"
   },
   {
    "duration": 6,
    "start_time": "2022-01-16T11:10:28.809Z"
   },
   {
    "duration": 124,
    "start_time": "2022-01-16T11:12:47.834Z"
   },
   {
    "duration": 91,
    "start_time": "2022-01-16T11:12:56.030Z"
   },
   {
    "duration": 7,
    "start_time": "2022-01-16T11:13:12.133Z"
   },
   {
    "duration": 7,
    "start_time": "2022-01-16T11:13:30.277Z"
   },
   {
    "duration": 8,
    "start_time": "2022-01-16T11:13:49.209Z"
   },
   {
    "duration": 27,
    "start_time": "2022-01-16T11:44:05.590Z"
   },
   {
    "duration": 394,
    "start_time": "2022-01-16T11:45:17.070Z"
   },
   {
    "duration": 438,
    "start_time": "2022-01-16T11:47:45.510Z"
   },
   {
    "duration": 453,
    "start_time": "2022-01-16T11:49:39.079Z"
   },
   {
    "duration": 469,
    "start_time": "2022-01-16T11:50:03.950Z"
   },
   {
    "duration": 460,
    "start_time": "2022-01-16T11:50:09.391Z"
   },
   {
    "duration": 485,
    "start_time": "2022-01-16T11:51:35.426Z"
   },
   {
    "duration": 8,
    "start_time": "2022-01-16T11:51:41.730Z"
   },
   {
    "duration": 1366,
    "start_time": "2022-01-17T06:54:32.362Z"
   },
   {
    "duration": 31,
    "start_time": "2022-01-17T06:54:33.730Z"
   },
   {
    "duration": 89,
    "start_time": "2022-01-17T06:54:33.763Z"
   },
   {
    "duration": 355,
    "start_time": "2022-01-17T06:54:33.854Z"
   },
   {
    "duration": 272,
    "start_time": "2022-01-17T06:54:34.211Z"
   },
   {
    "duration": 255,
    "start_time": "2022-01-17T06:54:34.485Z"
   },
   {
    "duration": 380,
    "start_time": "2022-01-17T06:54:34.918Z"
   },
   {
    "duration": 267,
    "start_time": "2022-01-17T06:54:35.450Z"
   },
   {
    "duration": 441,
    "start_time": "2022-01-17T06:54:35.989Z"
   },
   {
    "duration": 4,
    "start_time": "2022-01-17T06:54:36.567Z"
   },
   {
    "duration": 296,
    "start_time": "2022-01-17T06:54:37.156Z"
   },
   {
    "duration": 6,
    "start_time": "2022-01-17T06:54:37.708Z"
   },
   {
    "duration": 13,
    "start_time": "2022-01-17T07:03:13.645Z"
   },
   {
    "duration": 9,
    "start_time": "2022-01-17T07:05:21.941Z"
   },
   {
    "duration": 491,
    "start_time": "2022-01-17T07:06:13.349Z"
   },
   {
    "duration": 424,
    "start_time": "2022-01-17T07:07:34.243Z"
   },
   {
    "duration": 10,
    "start_time": "2022-01-17T07:09:17.743Z"
   },
   {
    "duration": 707,
    "start_time": "2022-01-17T07:10:07.670Z"
   },
   {
    "duration": 3,
    "start_time": "2022-01-17T07:11:03.610Z"
   },
   {
    "duration": 125,
    "start_time": "2022-01-17T07:11:10.926Z"
   },
   {
    "duration": 10,
    "start_time": "2022-01-17T07:12:39.741Z"
   },
   {
    "duration": 115,
    "start_time": "2022-01-17T07:12:52.249Z"
   },
   {
    "duration": 2,
    "start_time": "2022-01-17T07:13:20.729Z"
   },
   {
    "duration": 2,
    "start_time": "2022-01-17T07:13:23.761Z"
   },
   {
    "duration": 123,
    "start_time": "2022-01-17T07:15:42.781Z"
   },
   {
    "duration": 118,
    "start_time": "2022-01-17T07:17:25.461Z"
   },
   {
    "duration": 119,
    "start_time": "2022-01-17T07:17:34.863Z"
   },
   {
    "duration": 129,
    "start_time": "2022-01-17T07:17:41.563Z"
   },
   {
    "duration": 126,
    "start_time": "2022-01-17T07:20:12.502Z"
   },
   {
    "duration": 122,
    "start_time": "2022-01-17T07:20:26.672Z"
   },
   {
    "duration": 118,
    "start_time": "2022-01-17T07:20:44.122Z"
   },
   {
    "duration": 127,
    "start_time": "2022-01-17T07:20:49.203Z"
   },
   {
    "duration": 165,
    "start_time": "2022-01-17T07:21:06.399Z"
   },
   {
    "duration": 134,
    "start_time": "2022-01-17T07:21:15.043Z"
   },
   {
    "duration": 122,
    "start_time": "2022-01-17T07:21:22.570Z"
   },
   {
    "duration": 118,
    "start_time": "2022-01-17T07:21:28.862Z"
   },
   {
    "duration": 119,
    "start_time": "2022-01-17T07:22:34.170Z"
   },
   {
    "duration": 124,
    "start_time": "2022-01-17T07:22:55.402Z"
   },
   {
    "duration": 127,
    "start_time": "2022-01-17T07:27:26.842Z"
   },
   {
    "duration": 118,
    "start_time": "2022-01-17T07:30:41.555Z"
   },
   {
    "duration": 124,
    "start_time": "2022-01-17T07:34:43.395Z"
   },
   {
    "duration": 115,
    "start_time": "2022-01-17T07:35:15.665Z"
   },
   {
    "duration": 119,
    "start_time": "2022-01-17T07:35:23.616Z"
   },
   {
    "duration": 10,
    "start_time": "2022-01-17T07:35:54.535Z"
   },
   {
    "duration": 138,
    "start_time": "2022-01-17T07:36:12.097Z"
   },
   {
    "duration": 11,
    "start_time": "2022-01-17T07:36:16.015Z"
   },
   {
    "duration": 8,
    "start_time": "2022-01-17T07:41:00.745Z"
   },
   {
    "duration": 8,
    "start_time": "2022-01-17T07:41:00.954Z"
   },
   {
    "duration": 8,
    "start_time": "2022-01-17T14:00:44.116Z"
   },
   {
    "duration": 6848,
    "start_time": "2022-01-17T14:02:21.464Z"
   },
   {
    "duration": 17,
    "start_time": "2022-01-17T14:04:02.543Z"
   },
   {
    "duration": 8,
    "start_time": "2022-01-17T14:05:06.989Z"
   },
   {
    "duration": 101,
    "start_time": "2022-01-17T14:05:47.374Z"
   },
   {
    "duration": 16,
    "start_time": "2022-01-17T14:06:09.652Z"
   },
   {
    "duration": 21,
    "start_time": "2022-01-17T14:07:34.671Z"
   },
   {
    "duration": 3,
    "start_time": "2022-01-17T14:07:45.352Z"
   },
   {
    "duration": 3,
    "start_time": "2022-01-17T14:07:48.196Z"
   },
   {
    "duration": 3,
    "start_time": "2022-01-17T14:07:50.341Z"
   },
   {
    "duration": 19,
    "start_time": "2022-01-17T14:10:39.885Z"
   },
   {
    "duration": 10,
    "start_time": "2022-01-17T14:59:50.415Z"
   },
   {
    "duration": 14,
    "start_time": "2022-01-17T15:01:15.888Z"
   },
   {
    "duration": 2,
    "start_time": "2022-01-17T15:02:08.961Z"
   },
   {
    "duration": 14,
    "start_time": "2022-01-17T15:04:17.711Z"
   },
   {
    "duration": 10,
    "start_time": "2022-01-17T15:32:06.153Z"
   },
   {
    "duration": 3,
    "start_time": "2022-01-17T15:47:57.658Z"
   },
   {
    "duration": 27,
    "start_time": "2022-01-17T15:47:58.082Z"
   },
   {
    "duration": 74,
    "start_time": "2022-01-17T15:47:58.532Z"
   },
   {
    "duration": 360,
    "start_time": "2022-01-17T15:47:58.666Z"
   },
   {
    "duration": 267,
    "start_time": "2022-01-17T15:47:59.027Z"
   },
   {
    "duration": 326,
    "start_time": "2022-01-17T15:47:59.376Z"
   },
   {
    "duration": 338,
    "start_time": "2022-01-17T15:47:59.826Z"
   },
   {
    "duration": 266,
    "start_time": "2022-01-17T15:48:00.306Z"
   },
   {
    "duration": 451,
    "start_time": "2022-01-17T15:48:00.776Z"
   },
   {
    "duration": 5,
    "start_time": "2022-01-17T15:48:01.261Z"
   },
   {
    "duration": 312,
    "start_time": "2022-01-17T15:48:01.751Z"
   },
   {
    "duration": 5,
    "start_time": "2022-01-17T15:48:02.259Z"
   },
   {
    "duration": 125,
    "start_time": "2022-01-17T15:48:02.758Z"
   },
   {
    "duration": 12,
    "start_time": "2022-01-17T15:48:03.285Z"
   },
   {
    "duration": 22,
    "start_time": "2022-01-17T15:48:03.793Z"
   },
   {
    "duration": 16,
    "start_time": "2022-01-17T15:48:04.383Z"
   },
   {
    "duration": 4,
    "start_time": "2022-01-17T16:05:44.853Z"
   },
   {
    "duration": 28,
    "start_time": "2022-01-17T16:05:45.161Z"
   },
   {
    "duration": 77,
    "start_time": "2022-01-17T16:05:45.569Z"
   },
   {
    "duration": 385,
    "start_time": "2022-01-17T16:05:45.713Z"
   },
   {
    "duration": 266,
    "start_time": "2022-01-17T16:05:46.100Z"
   },
   {
    "duration": 258,
    "start_time": "2022-01-17T16:05:46.471Z"
   },
   {
    "duration": 373,
    "start_time": "2022-01-17T16:05:46.930Z"
   },
   {
    "duration": 292,
    "start_time": "2022-01-17T16:05:47.399Z"
   },
   {
    "duration": 453,
    "start_time": "2022-01-17T16:05:47.898Z"
   },
   {
    "duration": 5,
    "start_time": "2022-01-17T16:05:48.407Z"
   },
   {
    "duration": 327,
    "start_time": "2022-01-17T16:05:48.924Z"
   },
   {
    "duration": 5,
    "start_time": "2022-01-17T16:05:49.458Z"
   },
   {
    "duration": 147,
    "start_time": "2022-01-17T16:05:49.994Z"
   },
   {
    "duration": 12,
    "start_time": "2022-01-17T16:05:50.577Z"
   },
   {
    "duration": 22,
    "start_time": "2022-01-17T16:05:51.123Z"
   },
   {
    "duration": 16,
    "start_time": "2022-01-17T16:05:51.693Z"
   },
   {
    "duration": 1351,
    "start_time": "2022-01-18T13:57:56.839Z"
   },
   {
    "duration": 38,
    "start_time": "2022-01-18T13:57:58.194Z"
   },
   {
    "duration": 67,
    "start_time": "2022-01-18T13:57:58.236Z"
   },
   {
    "duration": 603,
    "start_time": "2022-01-18T13:57:58.306Z"
   },
   {
    "duration": 413,
    "start_time": "2022-01-18T13:57:58.911Z"
   },
   {
    "duration": 381,
    "start_time": "2022-01-18T13:57:59.332Z"
   },
   {
    "duration": 515,
    "start_time": "2022-01-18T13:57:59.717Z"
   },
   {
    "duration": 436,
    "start_time": "2022-01-18T13:58:00.235Z"
   },
   {
    "duration": 630,
    "start_time": "2022-01-18T13:58:00.674Z"
   },
   {
    "duration": 6,
    "start_time": "2022-01-18T13:58:01.307Z"
   },
   {
    "duration": 477,
    "start_time": "2022-01-18T13:58:01.315Z"
   },
   {
    "duration": 7,
    "start_time": "2022-01-18T13:58:01.795Z"
   },
   {
    "duration": 254,
    "start_time": "2022-01-18T13:58:01.804Z"
   },
   {
    "duration": 15,
    "start_time": "2022-01-18T13:58:02.060Z"
   },
   {
    "duration": 57,
    "start_time": "2022-01-18T13:58:02.077Z"
   },
   {
    "duration": 20,
    "start_time": "2022-01-18T13:58:02.136Z"
   },
   {
    "duration": 1414,
    "start_time": "2022-01-19T06:58:26.601Z"
   },
   {
    "duration": 61,
    "start_time": "2022-01-19T06:58:28.017Z"
   },
   {
    "duration": 101,
    "start_time": "2022-01-19T06:58:29.430Z"
   },
   {
    "duration": 600,
    "start_time": "2022-01-19T06:58:29.575Z"
   },
   {
    "duration": 553,
    "start_time": "2022-01-19T06:58:30.177Z"
   },
   {
    "duration": 395,
    "start_time": "2022-01-19T06:58:30.734Z"
   },
   {
    "duration": 534,
    "start_time": "2022-01-19T06:58:33.214Z"
   },
   {
    "duration": 417,
    "start_time": "2022-01-19T06:58:34.117Z"
   },
   {
    "duration": 803,
    "start_time": "2022-01-19T06:58:35.065Z"
   },
   {
    "duration": 7,
    "start_time": "2022-01-19T06:58:35.971Z"
   },
   {
    "duration": 486,
    "start_time": "2022-01-19T06:58:36.903Z"
   },
   {
    "duration": 8,
    "start_time": "2022-01-19T06:58:38.292Z"
   },
   {
    "duration": 235,
    "start_time": "2022-01-19T06:58:38.849Z"
   },
   {
    "duration": 16,
    "start_time": "2022-01-19T06:58:39.417Z"
   },
   {
    "duration": 31,
    "start_time": "2022-01-19T06:58:39.997Z"
   },
   {
    "duration": 21,
    "start_time": "2022-01-19T06:58:40.603Z"
   },
   {
    "duration": 5,
    "start_time": "2022-01-19T07:01:37.131Z"
   },
   {
    "duration": 38,
    "start_time": "2022-01-19T07:01:39.226Z"
   },
   {
    "duration": 5,
    "start_time": "2022-01-19T07:02:54.480Z"
   },
   {
    "duration": 37,
    "start_time": "2022-01-19T07:02:56.703Z"
   },
   {
    "duration": 38,
    "start_time": "2022-01-19T07:04:28.658Z"
   },
   {
    "duration": 39,
    "start_time": "2022-01-19T07:04:36.924Z"
   },
   {
    "duration": 9,
    "start_time": "2022-01-19T07:05:04.995Z"
   },
   {
    "duration": 6,
    "start_time": "2022-01-19T07:05:22.850Z"
   },
   {
    "duration": 5,
    "start_time": "2022-01-19T07:06:28.879Z"
   },
   {
    "duration": 9,
    "start_time": "2022-01-19T07:06:45.103Z"
   },
   {
    "duration": 5,
    "start_time": "2022-01-19T07:06:47.546Z"
   },
   {
    "duration": 40,
    "start_time": "2022-01-19T07:06:49.761Z"
   },
   {
    "duration": 44,
    "start_time": "2022-01-19T07:09:05.367Z"
   },
   {
    "duration": 22,
    "start_time": "2022-01-19T07:11:03.407Z"
   },
   {
    "duration": 18,
    "start_time": "2022-01-19T07:11:38.117Z"
   },
   {
    "duration": 19,
    "start_time": "2022-01-19T07:12:28.218Z"
   },
   {
    "duration": 10,
    "start_time": "2022-01-19T07:13:04.403Z"
   },
   {
    "duration": 10,
    "start_time": "2022-01-19T07:13:32.482Z"
   },
   {
    "duration": 108,
    "start_time": "2022-01-19T07:13:56.419Z"
   },
   {
    "duration": 133,
    "start_time": "2022-01-19T07:14:09.567Z"
   },
   {
    "duration": 99,
    "start_time": "2022-01-19T07:14:50.539Z"
   },
   {
    "duration": 117,
    "start_time": "2022-01-19T07:15:19.949Z"
   },
   {
    "duration": 129,
    "start_time": "2022-01-19T07:15:32.713Z"
   },
   {
    "duration": 23,
    "start_time": "2022-01-19T07:17:41.357Z"
   },
   {
    "duration": 22,
    "start_time": "2022-01-19T07:29:11.732Z"
   },
   {
    "duration": 545,
    "start_time": "2022-01-19T07:30:24.411Z"
   },
   {
    "duration": 692,
    "start_time": "2022-01-19T07:32:47.552Z"
   },
   {
    "duration": 302,
    "start_time": "2022-01-19T07:33:28.811Z"
   },
   {
    "duration": 317,
    "start_time": "2022-01-19T07:35:46.992Z"
   },
   {
    "duration": 39,
    "start_time": "2022-01-19T08:06:19.218Z"
   },
   {
    "duration": 214,
    "start_time": "2022-01-19T08:09:08.980Z"
   },
   {
    "duration": 245,
    "start_time": "2022-01-19T08:11:27.421Z"
   },
   {
    "duration": 232,
    "start_time": "2022-01-19T08:12:52.303Z"
   },
   {
    "duration": 97,
    "start_time": "2022-01-19T08:15:04.921Z"
   },
   {
    "duration": 217,
    "start_time": "2022-01-19T08:15:05.140Z"
   },
   {
    "duration": 647,
    "start_time": "2022-01-19T08:15:05.583Z"
   },
   {
    "duration": 445,
    "start_time": "2022-01-19T08:15:06.236Z"
   },
   {
    "duration": 512,
    "start_time": "2022-01-19T08:15:07.051Z"
   },
   {
    "duration": 581,
    "start_time": "2022-01-19T08:15:07.653Z"
   },
   {
    "duration": 411,
    "start_time": "2022-01-19T08:15:08.301Z"
   },
   {
    "duration": 672,
    "start_time": "2022-01-19T08:15:08.942Z"
   },
   {
    "duration": 6,
    "start_time": "2022-01-19T08:15:09.617Z"
   },
   {
    "duration": 494,
    "start_time": "2022-01-19T08:15:10.228Z"
   },
   {
    "duration": 8,
    "start_time": "2022-01-19T08:15:10.900Z"
   },
   {
    "duration": 254,
    "start_time": "2022-01-19T08:15:11.572Z"
   },
   {
    "duration": 21,
    "start_time": "2022-01-19T08:15:12.251Z"
   },
   {
    "duration": 45,
    "start_time": "2022-01-19T08:15:12.942Z"
   },
   {
    "duration": 33,
    "start_time": "2022-01-19T08:15:13.633Z"
   },
   {
    "duration": 46,
    "start_time": "2022-01-19T08:19:45.969Z"
   },
   {
    "duration": 47,
    "start_time": "2022-01-19T08:20:25.470Z"
   },
   {
    "duration": 32,
    "start_time": "2022-01-19T08:21:19.314Z"
   },
   {
    "duration": 967,
    "start_time": "2022-01-19T13:06:07.491Z"
   },
   {
    "duration": 3736,
    "start_time": "2022-01-19T13:06:08.460Z"
   },
   {
    "duration": 241,
    "start_time": "2022-01-19T13:06:12.198Z"
   },
   {
    "duration": 102,
    "start_time": "2022-01-19T13:06:12.441Z"
   },
   {
    "duration": 363,
    "start_time": "2022-01-19T13:06:12.545Z"
   },
   {
    "duration": 294,
    "start_time": "2022-01-19T13:06:12.912Z"
   },
   {
    "duration": 262,
    "start_time": "2022-01-19T13:06:13.207Z"
   },
   {
    "duration": 357,
    "start_time": "2022-01-19T13:06:13.472Z"
   },
   {
    "duration": 275,
    "start_time": "2022-01-19T13:06:13.831Z"
   },
   {
    "duration": 467,
    "start_time": "2022-01-19T13:06:14.108Z"
   },
   {
    "duration": 5,
    "start_time": "2022-01-19T13:06:14.578Z"
   },
   {
    "duration": 358,
    "start_time": "2022-01-19T13:06:14.585Z"
   },
   {
    "duration": 5,
    "start_time": "2022-01-19T13:06:14.945Z"
   },
   {
    "duration": 134,
    "start_time": "2022-01-19T13:06:14.952Z"
   },
   {
    "duration": 8,
    "start_time": "2022-01-19T13:06:15.088Z"
   },
   {
    "duration": 30,
    "start_time": "2022-01-19T13:06:15.098Z"
   },
   {
    "duration": 17,
    "start_time": "2022-01-19T13:06:15.130Z"
   }
  ],
  "kernelspec": {
   "display_name": "Python 3 (ipykernel)",
   "language": "python",
   "name": "python3"
  },
  "language_info": {
   "codemirror_mode": {
    "name": "ipython",
    "version": 3
   },
   "file_extension": ".py",
   "mimetype": "text/x-python",
   "name": "python",
   "nbconvert_exporter": "python",
   "pygments_lexer": "ipython3",
   "version": "3.9.5"
  },
  "toc": {
   "base_numbering": 1,
   "nav_menu": {},
   "number_sections": true,
   "sideBar": true,
   "skip_h1_title": true,
   "title_cell": "Table of Contents",
   "title_sidebar": "Contents",
   "toc_cell": false,
   "toc_position": {},
   "toc_section_display": true,
   "toc_window_display": false
  }
 },
 "nbformat": 4,
 "nbformat_minor": 2
}
